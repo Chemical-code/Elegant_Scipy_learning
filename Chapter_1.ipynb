{
 "cells": [
  {
   "cell_type": "markdown",
   "id": "338b02e6",
   "metadata": {},
   "source": [
    "# Chapter 1 Elegant Numpy"
   ]
  },
  {
   "cell_type": "markdown",
   "id": "d55e958a",
   "metadata": {},
   "source": [
    "## 1.1 Gene Expression and Data"
   ]
  },
  {
   "cell_type": "code",
   "execution_count": 6,
   "id": "f30cfa14",
   "metadata": {},
   "outputs": [],
   "source": [
    "def rpkm(counts, lengths):\n",
    "    \n",
    "    normed = 1e9 * C / (N[np.newaxis, :] * L[:, np.newaxis])\n",
    "    \n",
    "    return(normed)"
   ]
  },
  {
   "cell_type": "code",
   "execution_count": 7,
   "id": "12598333",
   "metadata": {},
   "outputs": [],
   "source": [
    "gene0 = [100, 200]\n",
    "gene1 = [50, 0]\n",
    "gene2 = [350, 100]\n",
    "expression_data = [gene0, gene1, gene2]"
   ]
  },
  {
   "cell_type": "code",
   "execution_count": 8,
   "id": "4b650f63",
   "metadata": {},
   "outputs": [
    {
     "data": {
      "text/plain": [
       "350"
      ]
     },
     "execution_count": 8,
     "metadata": {},
     "output_type": "execute_result"
    }
   ],
   "source": [
    "expression_data[2][0]"
   ]
  },
  {
   "cell_type": "code",
   "execution_count": 1,
   "id": "8300dd74",
   "metadata": {},
   "outputs": [
    {
     "name": "stdout",
     "output_type": "stream",
     "text": [
      "[1 2 3 4]\n"
     ]
    }
   ],
   "source": [
    "import numpy as np\n",
    "array1d = np.array([1, 2, 3, 4])\n",
    "print(array1d)"
   ]
  },
  {
   "cell_type": "code",
   "execution_count": 2,
   "id": "9f5bbf50",
   "metadata": {},
   "outputs": [
    {
     "name": "stdout",
     "output_type": "stream",
     "text": [
      "<class 'numpy.ndarray'>\n"
     ]
    }
   ],
   "source": [
    "print(type(array1d))"
   ]
  },
  {
   "cell_type": "code",
   "execution_count": 3,
   "id": "33a7c56b",
   "metadata": {},
   "outputs": [
    {
     "name": "stdout",
     "output_type": "stream",
     "text": [
      "(4,)\n"
     ]
    }
   ],
   "source": [
    "print(array1d.shape)"
   ]
  },
  {
   "cell_type": "code",
   "execution_count": 9,
   "id": "e8b314cd",
   "metadata": {},
   "outputs": [
    {
     "name": "stdout",
     "output_type": "stream",
     "text": [
      "[[100 200]\n",
      " [ 50   0]\n",
      " [350 100]]\n",
      "(3, 2)\n",
      "<class 'numpy.ndarray'>\n"
     ]
    }
   ],
   "source": [
    "array2d = np.array(expression_data)\n",
    "print(array2d)\n",
    "print(array2d.shape)\n",
    "print(type(array2d))"
   ]
  },
  {
   "cell_type": "code",
   "execution_count": 10,
   "id": "b8331947",
   "metadata": {},
   "outputs": [
    {
     "name": "stdout",
     "output_type": "stream",
     "text": [
      "2\n"
     ]
    }
   ],
   "source": [
    "print(array2d.ndim)"
   ]
  },
  {
   "cell_type": "markdown",
   "id": "ca338144",
   "metadata": {},
   "source": [
    "## 1.2 Numpy N-dimension Array"
   ]
  },
  {
   "cell_type": "code",
   "execution_count": 11,
   "id": "4073a9cb",
   "metadata": {},
   "outputs": [],
   "source": [
    "import numpy as np\n",
    "\n",
    "# integer range(0~999,999) ndarray\n",
    "array = np.arange(1e6)\n",
    "\n",
    "# transform to python list\n",
    "list_array = array.tolist()"
   ]
  },
  {
   "cell_type": "code",
   "execution_count": 12,
   "id": "865517b0",
   "metadata": {},
   "outputs": [
    {
     "name": "stdout",
     "output_type": "stream",
     "text": [
      "35.5 ms ± 1.2 ms per loop (mean ± std. dev. of 7 runs, 10 loops each)\n"
     ]
    }
   ],
   "source": [
    "%timeit -n10 y = [val * 5 for val in list_array]"
   ]
  },
  {
   "cell_type": "code",
   "execution_count": 13,
   "id": "5dcd6ee8",
   "metadata": {},
   "outputs": [
    {
     "name": "stdout",
     "output_type": "stream",
     "text": [
      "758 µs ± 398 µs per loop (mean ± std. dev. of 7 runs, 10 loops each)\n"
     ]
    }
   ],
   "source": [
    "%timeit -n10 x = array * 5"
   ]
  },
  {
   "cell_type": "code",
   "execution_count": 14,
   "id": "a9f48b7e",
   "metadata": {},
   "outputs": [
    {
     "name": "stdout",
     "output_type": "stream",
     "text": [
      "[1 2 3]\n"
     ]
    }
   ],
   "source": [
    "# ndarray x formation\n",
    "x = np.array([1, 2, 3], np.int32)\n",
    "print(x)"
   ]
  },
  {
   "cell_type": "code",
   "execution_count": 15,
   "id": "03ccf7d0",
   "metadata": {},
   "outputs": [
    {
     "name": "stdout",
     "output_type": "stream",
     "text": [
      "[1 2]\n"
     ]
    }
   ],
   "source": [
    "# slice x formation\n",
    "y = x[:2]\n",
    "print(y)"
   ]
  },
  {
   "cell_type": "code",
   "execution_count": 16,
   "id": "329f4244",
   "metadata": {},
   "outputs": [
    {
     "name": "stdout",
     "output_type": "stream",
     "text": [
      "[6 2]\n"
     ]
    }
   ],
   "source": [
    "# allocate 6 to first element of y\n",
    "y[0] = 6\n",
    "print(y)"
   ]
  },
  {
   "cell_type": "code",
   "execution_count": 17,
   "id": "ab700b5b",
   "metadata": {},
   "outputs": [
    {
     "name": "stdout",
     "output_type": "stream",
     "text": [
      "[6 2 3]\n"
     ]
    }
   ],
   "source": [
    "# now first element of y changed to 6\n",
    "print(x)"
   ]
  },
  {
   "cell_type": "code",
   "execution_count": 18,
   "id": "507239b2",
   "metadata": {},
   "outputs": [],
   "source": [
    "y = np.copy(x[:2])"
   ]
  },
  {
   "cell_type": "code",
   "execution_count": 19,
   "id": "573a2e80",
   "metadata": {},
   "outputs": [
    {
     "name": "stdout",
     "output_type": "stream",
     "text": [
      "[2 4 6 8]\n"
     ]
    }
   ],
   "source": [
    "x = np.array([1, 2, 3, 4])\n",
    "print(x * 2)"
   ]
  },
  {
   "cell_type": "code",
   "execution_count": 22,
   "id": "b5642c3d",
   "metadata": {},
   "outputs": [
    {
     "name": "stdout",
     "output_type": "stream",
     "text": [
      "[1 3 5 5]\n"
     ]
    }
   ],
   "source": [
    "y = np.array([0, 1, 2, 1])\n",
    "print(x + y)"
   ]
  },
  {
   "cell_type": "code",
   "execution_count": 23,
   "id": "d3bb52de",
   "metadata": {},
   "outputs": [
    {
     "name": "stdout",
     "output_type": "stream",
     "text": [
      "[[1]\n",
      " [2]\n",
      " [3]\n",
      " [4]]\n"
     ]
    }
   ],
   "source": [
    "x = np.array([1, 2, 3, 4])\n",
    "x = np.reshape(x, (len(x), 1))\n",
    "print(x)"
   ]
  },
  {
   "cell_type": "code",
   "execution_count": 25,
   "id": "aff1705f",
   "metadata": {},
   "outputs": [
    {
     "name": "stdout",
     "output_type": "stream",
     "text": [
      "[[0 1 2 1]]\n"
     ]
    }
   ],
   "source": [
    "y = np.array([0, 1, 2, 1])\n",
    "y = np.reshape(y, (1, len(y)))\n",
    "print(y)"
   ]
  },
  {
   "cell_type": "code",
   "execution_count": 26,
   "id": "d527fbd5",
   "metadata": {},
   "outputs": [
    {
     "name": "stdout",
     "output_type": "stream",
     "text": [
      "(4, 1)\n",
      "(1, 4)\n"
     ]
    }
   ],
   "source": [
    "print(x.shape)\n",
    "print(y.shape)"
   ]
  },
  {
   "cell_type": "code",
   "execution_count": 27,
   "id": "0b69e1fd",
   "metadata": {},
   "outputs": [
    {
     "name": "stdout",
     "output_type": "stream",
     "text": [
      "[[0 1 2 1]\n",
      " [0 2 4 2]\n",
      " [0 3 6 3]\n",
      " [0 4 8 4]]\n"
     ]
    }
   ],
   "source": [
    "outer = x * y\n",
    "print(outer)"
   ]
  },
  {
   "cell_type": "code",
   "execution_count": 28,
   "id": "aa25e508",
   "metadata": {},
   "outputs": [
    {
     "name": "stdout",
     "output_type": "stream",
     "text": [
      "(4, 4)\n"
     ]
    }
   ],
   "source": [
    "print(outer.shape)"
   ]
  },
  {
   "cell_type": "markdown",
   "id": "34360f61",
   "metadata": {},
   "source": [
    "## 1.3 Gene Expression Dataset"
   ]
  },
  {
   "cell_type": "code",
   "execution_count": 29,
   "id": "8c6df75e",
   "metadata": {},
   "outputs": [
    {
     "name": "stdout",
     "output_type": "stream",
     "text": [
      "       00624286-41dd-476f-a63b-d2a5f484bb45  TCGA-FS-A1Z0  TCGA-D9-A3Z1  \\\n",
      "A1BG                                1272.36        452.96        288.06   \n",
      "A1CF                                   0.00          0.00          0.00   \n",
      "A2BP1                                  0.00          0.00          0.00   \n",
      "A2LD1                                164.38        552.43        201.83   \n",
      "A2ML1                                 27.00          0.00          0.00   \n",
      "\n",
      "       02c76d24-f1d2-4029-95b4-8be3bda8fdbe  TCGA-EB-A51B  \n",
      "A1BG                                 400.11        420.46  \n",
      "A1CF                                   1.00          0.00  \n",
      "A2BP1                                  0.00          1.00  \n",
      "A2LD1                                165.12         95.75  \n",
      "A2ML1                                  0.00          8.00  \n"
     ]
    }
   ],
   "source": [
    "import numpy as np\n",
    "import pandas as pd\n",
    "\n",
    "filename = 'data/counts.txt'\n",
    "with open(filename, 'rt') as f:\n",
    "    data_table = pd.read_csv(f, index_col=0)\n",
    "    \n",
    "print(data_table.iloc[:5, :5])"
   ]
  },
  {
   "cell_type": "code",
   "execution_count": 30,
   "id": "16bb48d7",
   "metadata": {},
   "outputs": [],
   "source": [
    "# sample name\n",
    "samples = list(data_table.columns)"
   ]
  },
  {
   "cell_type": "code",
   "execution_count": 31,
   "id": "cafab842",
   "metadata": {},
   "outputs": [
    {
     "name": "stdout",
     "output_type": "stream",
     "text": [
      "            GeneID  GeneLength\n",
      "GeneSymbol                    \n",
      "CPA1          1357        1724\n",
      "GUCY2D        3000        3623\n",
      "UBC           7316        2687\n",
      "C11orf95     65998        5581\n",
      "ANKMY2       57037        2611\n"
     ]
    }
   ],
   "source": [
    "# import gene length data\n",
    "with open('data/genes.csv', 'rt') as f:\n",
    "    # parsing pandas file and indexing GeneSymbol\n",
    "    gene_info = pd.read_csv(f, index_col=0)\n",
    "print(gene_info.iloc[:5, :])"
   ]
  },
  {
   "cell_type": "code",
   "execution_count": 33,
   "id": "796b00fe",
   "metadata": {},
   "outputs": [
    {
     "name": "stdout",
     "output_type": "stream",
     "text": [
      "data_table gene :  20500\n",
      "gene_info gene :  20503\n"
     ]
    }
   ],
   "source": [
    "print(\"data_table gene : \", data_table.shape[0])\n",
    "print(\"gene_info gene : \", gene_info.shape[0])"
   ]
  },
  {
   "cell_type": "code",
   "execution_count": 34,
   "id": "a2ee722c",
   "metadata": {},
   "outputs": [],
   "source": [
    "# subset of gene data that match with number data\n",
    "matched_index = pd.Index.intersection(data_table.index, gene_info.index)"
   ]
  },
  {
   "cell_type": "code",
   "execution_count": 35,
   "id": "9bb3c7b8",
   "metadata": {},
   "outputs": [
    {
     "name": "stdout",
     "output_type": "stream",
     "text": [
      "20500 genes were counted in 375 species\n"
     ]
    }
   ],
   "source": [
    "# 2D array that includes expression rate about each gene for each species\n",
    "counts = np.asarray(data_table.loc[matched_index], dtype=int)\n",
    "\n",
    "gene_names = np.array(matched_index)\n",
    "\n",
    "# check gene amount and species amount\n",
    "print(f'{counts.shape[0]} genes were counted in {counts.shape[1]} species')"
   ]
  },
  {
   "cell_type": "code",
   "execution_count": 38,
   "id": "91f36f50",
   "metadata": {},
   "outputs": [],
   "source": [
    "# 1D ndarray include each gene length\n",
    "gene_lengths = np.asarray(gene_info.loc[matched_index]['GeneLength'], dtype=int)"
   ]
  },
  {
   "cell_type": "code",
   "execution_count": 39,
   "id": "436fabb2",
   "metadata": {},
   "outputs": [
    {
     "name": "stdout",
     "output_type": "stream",
     "text": [
      "(20500, 375)\n",
      "(20500,)\n"
     ]
    }
   ],
   "source": [
    "print(counts.shape)\n",
    "print(gene_lengths.shape)"
   ]
  },
  {
   "cell_type": "markdown",
   "id": "4f17a510",
   "metadata": {},
   "source": [
    "## 1.4 Normalization"
   ]
  },
  {
   "cell_type": "code",
   "execution_count": null,
   "id": "59f2c25e",
   "metadata": {},
   "outputs": [],
   "source": []
  }
 ],
 "metadata": {
  "kernelspec": {
   "display_name": "Python 3 (ipykernel)",
   "language": "python",
   "name": "python3"
  },
  "language_info": {
   "codemirror_mode": {
    "name": "ipython",
    "version": 3
   },
   "file_extension": ".py",
   "mimetype": "text/x-python",
   "name": "python",
   "nbconvert_exporter": "python",
   "pygments_lexer": "ipython3",
   "version": "3.9.12"
  }
 },
 "nbformat": 4,
 "nbformat_minor": 5
}
